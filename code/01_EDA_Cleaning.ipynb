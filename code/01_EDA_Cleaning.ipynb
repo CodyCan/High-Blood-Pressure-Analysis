{
 "cells": [
  {
   "cell_type": "markdown",
   "id": "e3816fe2-ba35-4a86-b9eb-30cb1933b680",
   "metadata": {},
   "source": [
    "# 1. EDA and Data Cleaning"
   ]
  },
  {
   "cell_type": "code",
   "execution_count": 152,
   "id": "7decc634-f5e4-4120-a2bc-c36323c2404f",
   "metadata": {},
   "outputs": [],
   "source": [
    "import pandas as pd\n",
    "import numpy as np\n",
    "import matplotlib.pyplot as plt"
   ]
  },
  {
   "cell_type": "markdown",
   "id": "3d3b967f-2464-4527-b6e4-d20e83037c6c",
   "metadata": {},
   "source": [
    "> Personal data are removed, province names are also encoded to protect patients privacy."
   ]
  },
  {
   "cell_type": "code",
   "execution_count": 153,
   "id": "15c567f6-1a0c-4929-b899-470b7b63cb3f",
   "metadata": {},
   "outputs": [
    {
     "name": "stdout",
     "output_type": "stream",
     "text": [
      "<class 'pandas.core.frame.DataFrame'>\n",
      "RangeIndex: 20770 entries, 0 to 20769\n",
      "Data columns (total 18 columns):\n",
      " #   Column                      Non-Null Count  Dtype  \n",
      "---  ------                      --------------  -----  \n",
      " 0   survey_time                 18536 non-null  object \n",
      " 1   survey_year                 20768 non-null  float64\n",
      " 2   birth_year                  20555 non-null  object \n",
      " 3   gender                      20770 non-null  int64  \n",
      " 4   body_height                 19808 non-null  float64\n",
      " 5   body_weight                 19860 non-null  float64\n",
      " 6   smoker                      19993 non-null  float64\n",
      " 7   high_blood_pressure         20770 non-null  int64  \n",
      " 8   under_treatment             19953 non-null  float64\n",
      " 9   lipid                       19448 non-null  float64\n",
      " 10  diabetes                    19681 non-null  float64\n",
      " 11  systolic_blood_pressure_1   20737 non-null  float64\n",
      " 12  diastolic_blood_pressure_1  20739 non-null  float64\n",
      " 13  heart_rate_1                20613 non-null  float64\n",
      " 14  systolic_blood_pressure_2   19753 non-null  float64\n",
      " 15  diastolic_blood_pressure_2  19753 non-null  float64\n",
      " 16  heart_rate_2                18552 non-null  float64\n",
      " 17  province_enc                20770 non-null  int64  \n",
      "dtypes: float64(13), int64(3), object(2)\n",
      "memory usage: 2.9+ MB\n"
     ]
    },
    {
     "data": {
      "text/html": [
       "<div>\n",
       "<style scoped>\n",
       "    .dataframe tbody tr th:only-of-type {\n",
       "        vertical-align: middle;\n",
       "    }\n",
       "\n",
       "    .dataframe tbody tr th {\n",
       "        vertical-align: top;\n",
       "    }\n",
       "\n",
       "    .dataframe thead th {\n",
       "        text-align: right;\n",
       "    }\n",
       "</style>\n",
       "<table border=\"1\" class=\"dataframe\">\n",
       "  <thead>\n",
       "    <tr style=\"text-align: right;\">\n",
       "      <th></th>\n",
       "      <th>survey_time</th>\n",
       "      <th>survey_year</th>\n",
       "      <th>birth_year</th>\n",
       "      <th>gender</th>\n",
       "      <th>body_height</th>\n",
       "      <th>body_weight</th>\n",
       "      <th>smoker</th>\n",
       "      <th>high_blood_pressure</th>\n",
       "      <th>under_treatment</th>\n",
       "      <th>lipid</th>\n",
       "      <th>diabetes</th>\n",
       "      <th>systolic_blood_pressure_1</th>\n",
       "      <th>diastolic_blood_pressure_1</th>\n",
       "      <th>heart_rate_1</th>\n",
       "      <th>systolic_blood_pressure_2</th>\n",
       "      <th>diastolic_blood_pressure_2</th>\n",
       "      <th>heart_rate_2</th>\n",
       "      <th>province_enc</th>\n",
       "    </tr>\n",
       "  </thead>\n",
       "  <tbody>\n",
       "    <tr>\n",
       "      <th>0</th>\n",
       "      <td>19/2/2020</td>\n",
       "      <td>2020.0</td>\n",
       "      <td>1963</td>\n",
       "      <td>1</td>\n",
       "      <td>NaN</td>\n",
       "      <td>NaN</td>\n",
       "      <td>1.0</td>\n",
       "      <td>0</td>\n",
       "      <td>NaN</td>\n",
       "      <td>NaN</td>\n",
       "      <td>NaN</td>\n",
       "      <td>130.0</td>\n",
       "      <td>70.0</td>\n",
       "      <td>78.0</td>\n",
       "      <td>120.0</td>\n",
       "      <td>80.0</td>\n",
       "      <td>78.0</td>\n",
       "      <td>0</td>\n",
       "    </tr>\n",
       "    <tr>\n",
       "      <th>1</th>\n",
       "      <td>01/01/2020</td>\n",
       "      <td>2020.0</td>\n",
       "      <td>1949</td>\n",
       "      <td>1</td>\n",
       "      <td>160.0</td>\n",
       "      <td>50.0</td>\n",
       "      <td>0.0</td>\n",
       "      <td>0</td>\n",
       "      <td>0.0</td>\n",
       "      <td>0.0</td>\n",
       "      <td>0.0</td>\n",
       "      <td>124.0</td>\n",
       "      <td>70.0</td>\n",
       "      <td>68.0</td>\n",
       "      <td>120.0</td>\n",
       "      <td>70.0</td>\n",
       "      <td>72.0</td>\n",
       "      <td>0</td>\n",
       "    </tr>\n",
       "    <tr>\n",
       "      <th>2</th>\n",
       "      <td>12/12/2018</td>\n",
       "      <td>2018.0</td>\n",
       "      <td>2001</td>\n",
       "      <td>1</td>\n",
       "      <td>165.0</td>\n",
       "      <td>52.0</td>\n",
       "      <td>0.0</td>\n",
       "      <td>0</td>\n",
       "      <td>0.0</td>\n",
       "      <td>0.0</td>\n",
       "      <td>0.0</td>\n",
       "      <td>100.0</td>\n",
       "      <td>60.0</td>\n",
       "      <td>90.0</td>\n",
       "      <td>110.0</td>\n",
       "      <td>70.0</td>\n",
       "      <td>90.0</td>\n",
       "      <td>0</td>\n",
       "    </tr>\n",
       "    <tr>\n",
       "      <th>3</th>\n",
       "      <td>01/01/2020</td>\n",
       "      <td>2020.0</td>\n",
       "      <td>1960</td>\n",
       "      <td>1</td>\n",
       "      <td>160.0</td>\n",
       "      <td>63.0</td>\n",
       "      <td>0.0</td>\n",
       "      <td>1</td>\n",
       "      <td>1.0</td>\n",
       "      <td>0.0</td>\n",
       "      <td>0.0</td>\n",
       "      <td>130.0</td>\n",
       "      <td>79.0</td>\n",
       "      <td>87.0</td>\n",
       "      <td>123.0</td>\n",
       "      <td>74.0</td>\n",
       "      <td>87.0</td>\n",
       "      <td>0</td>\n",
       "    </tr>\n",
       "    <tr>\n",
       "      <th>4</th>\n",
       "      <td>01/01/2020</td>\n",
       "      <td>2020.0</td>\n",
       "      <td>1950</td>\n",
       "      <td>1</td>\n",
       "      <td>164.0</td>\n",
       "      <td>61.0</td>\n",
       "      <td>0.0</td>\n",
       "      <td>0</td>\n",
       "      <td>0.0</td>\n",
       "      <td>0.0</td>\n",
       "      <td>0.0</td>\n",
       "      <td>118.0</td>\n",
       "      <td>86.0</td>\n",
       "      <td>73.0</td>\n",
       "      <td>110.0</td>\n",
       "      <td>60.0</td>\n",
       "      <td>80.0</td>\n",
       "      <td>0</td>\n",
       "    </tr>\n",
       "  </tbody>\n",
       "</table>\n",
       "</div>"
      ],
      "text/plain": [
       "  survey_time  survey_year birth_year  gender  body_height  body_weight  \\\n",
       "0   19/2/2020       2020.0       1963       1          NaN          NaN   \n",
       "1  01/01/2020       2020.0       1949       1        160.0         50.0   \n",
       "2  12/12/2018       2018.0       2001       1        165.0         52.0   \n",
       "3  01/01/2020       2020.0       1960       1        160.0         63.0   \n",
       "4  01/01/2020       2020.0       1950       1        164.0         61.0   \n",
       "\n",
       "   smoker  high_blood_pressure  under_treatment  lipid  diabetes  \\\n",
       "0     1.0                    0              NaN    NaN       NaN   \n",
       "1     0.0                    0              0.0    0.0       0.0   \n",
       "2     0.0                    0              0.0    0.0       0.0   \n",
       "3     0.0                    1              1.0    0.0       0.0   \n",
       "4     0.0                    0              0.0    0.0       0.0   \n",
       "\n",
       "   systolic_blood_pressure_1  diastolic_blood_pressure_1  heart_rate_1  \\\n",
       "0                      130.0                        70.0          78.0   \n",
       "1                      124.0                        70.0          68.0   \n",
       "2                      100.0                        60.0          90.0   \n",
       "3                      130.0                        79.0          87.0   \n",
       "4                      118.0                        86.0          73.0   \n",
       "\n",
       "   systolic_blood_pressure_2  diastolic_blood_pressure_2  heart_rate_2  \\\n",
       "0                      120.0                        80.0          78.0   \n",
       "1                      120.0                        70.0          72.0   \n",
       "2                      110.0                        70.0          90.0   \n",
       "3                      123.0                        74.0          87.0   \n",
       "4                      110.0                        60.0          80.0   \n",
       "\n",
       "   province_enc  \n",
       "0             0  \n",
       "1             0  \n",
       "2             0  \n",
       "3             0  \n",
       "4             0  "
      ]
     },
     "execution_count": 153,
     "metadata": {},
     "output_type": "execute_result"
    }
   ],
   "source": [
    "hbp = pd.read_csv(\"../data/high_blood_pressure_VN_2020.csv\")\n",
    "hbp.info()\n",
    "hbp.head()"
   ]
  },
  {
   "cell_type": "code",
   "execution_count": 154,
   "id": "2b2e425e-3d26-466e-a614-141399a2e33d",
   "metadata": {},
   "outputs": [
    {
     "data": {
      "text/plain": [
       "survey_time                   2234\n",
       "heart_rate_2                  2218\n",
       "lipid                         1322\n",
       "diabetes                      1089\n",
       "systolic_blood_pressure_2     1017\n",
       "diastolic_blood_pressure_2    1017\n",
       "body_height                    962\n",
       "body_weight                    910\n",
       "under_treatment                817\n",
       "smoker                         777\n",
       "birth_year                     215\n",
       "heart_rate_1                   157\n",
       "systolic_blood_pressure_1       33\n",
       "diastolic_blood_pressure_1      31\n",
       "survey_year                      2\n",
       "gender                           0\n",
       "high_blood_pressure              0\n",
       "province_enc                     0\n",
       "dtype: int64"
      ]
     },
     "execution_count": 154,
     "metadata": {},
     "output_type": "execute_result"
    }
   ],
   "source": [
    "hbp.isna().sum().sort_values(ascending=False)"
   ]
  },
  {
   "cell_type": "markdown",
   "id": "4024a3f6-6ce7-4770-90c7-d4de9e79931f",
   "metadata": {},
   "source": [
    "## 1.1. Fix birth_year and Calculate Age"
   ]
  },
  {
   "cell_type": "code",
   "execution_count": 155,
   "id": "c6d15f87-5b71-4395-968e-9e21090b8ffc",
   "metadata": {},
   "outputs": [],
   "source": [
    "#survey time doesn't have the correct dtype, but we won't use this column\n",
    "#we will only need the survey_year and the birth_year to calculate the age"
   ]
  },
  {
   "cell_type": "code",
   "execution_count": 156,
   "id": "89744416-9af6-46e1-ae17-89f0484cfd8c",
   "metadata": {},
   "outputs": [
    {
     "data": {
      "text/plain": [
       "4.0     20553\n",
       "10.0        2\n",
       "Name: birth_year, dtype: int64"
      ]
     },
     "execution_count": 156,
     "metadata": {},
     "output_type": "execute_result"
    }
   ],
   "source": [
    "#birth_year should be 4 digits\n",
    "hbp[\"birth_year\"].str.len().value_counts()"
   ]
  },
  {
   "cell_type": "code",
   "execution_count": 157,
   "id": "078a3bd4-44ab-42f5-ba3e-e6e5bea912c5",
   "metadata": {},
   "outputs": [
    {
     "data": {
      "text/html": [
       "<div>\n",
       "<style scoped>\n",
       "    .dataframe tbody tr th:only-of-type {\n",
       "        vertical-align: middle;\n",
       "    }\n",
       "\n",
       "    .dataframe tbody tr th {\n",
       "        vertical-align: top;\n",
       "    }\n",
       "\n",
       "    .dataframe thead th {\n",
       "        text-align: right;\n",
       "    }\n",
       "</style>\n",
       "<table border=\"1\" class=\"dataframe\">\n",
       "  <thead>\n",
       "    <tr style=\"text-align: right;\">\n",
       "      <th></th>\n",
       "      <th>survey_time</th>\n",
       "      <th>survey_year</th>\n",
       "      <th>birth_year</th>\n",
       "      <th>gender</th>\n",
       "      <th>body_height</th>\n",
       "      <th>body_weight</th>\n",
       "      <th>smoker</th>\n",
       "      <th>high_blood_pressure</th>\n",
       "      <th>under_treatment</th>\n",
       "      <th>lipid</th>\n",
       "      <th>diabetes</th>\n",
       "      <th>systolic_blood_pressure_1</th>\n",
       "      <th>diastolic_blood_pressure_1</th>\n",
       "      <th>heart_rate_1</th>\n",
       "      <th>systolic_blood_pressure_2</th>\n",
       "      <th>diastolic_blood_pressure_2</th>\n",
       "      <th>heart_rate_2</th>\n",
       "      <th>province_enc</th>\n",
       "    </tr>\n",
       "  </thead>\n",
       "  <tbody>\n",
       "    <tr>\n",
       "      <th>5010</th>\n",
       "      <td>04/12/2019</td>\n",
       "      <td>2019.0</td>\n",
       "      <td>04/29/1905</td>\n",
       "      <td>1</td>\n",
       "      <td>160.0</td>\n",
       "      <td>56.0</td>\n",
       "      <td>1.0</td>\n",
       "      <td>1</td>\n",
       "      <td>1.0</td>\n",
       "      <td>0.0</td>\n",
       "      <td>0.0</td>\n",
       "      <td>141.0</td>\n",
       "      <td>81.0</td>\n",
       "      <td>87.0</td>\n",
       "      <td>136.0</td>\n",
       "      <td>80.0</td>\n",
       "      <td>89.0</td>\n",
       "      <td>6</td>\n",
       "    </tr>\n",
       "    <tr>\n",
       "      <th>8256</th>\n",
       "      <td>09/12/2019</td>\n",
       "      <td>2019.0</td>\n",
       "      <td>04/19/1905</td>\n",
       "      <td>2</td>\n",
       "      <td>150.0</td>\n",
       "      <td>42.0</td>\n",
       "      <td>0.0</td>\n",
       "      <td>0</td>\n",
       "      <td>0.0</td>\n",
       "      <td>3.0</td>\n",
       "      <td>1.0</td>\n",
       "      <td>138.0</td>\n",
       "      <td>94.0</td>\n",
       "      <td>89.0</td>\n",
       "      <td>130.0</td>\n",
       "      <td>80.0</td>\n",
       "      <td>87.0</td>\n",
       "      <td>6</td>\n",
       "    </tr>\n",
       "  </tbody>\n",
       "</table>\n",
       "</div>"
      ],
      "text/plain": [
       "     survey_time  survey_year  birth_year  gender  body_height  body_weight  \\\n",
       "5010  04/12/2019       2019.0  04/29/1905       1        160.0         56.0   \n",
       "8256  09/12/2019       2019.0  04/19/1905       2        150.0         42.0   \n",
       "\n",
       "      smoker  high_blood_pressure  under_treatment  lipid  diabetes  \\\n",
       "5010     1.0                    1              1.0    0.0       0.0   \n",
       "8256     0.0                    0              0.0    3.0       1.0   \n",
       "\n",
       "      systolic_blood_pressure_1  diastolic_blood_pressure_1  heart_rate_1  \\\n",
       "5010                      141.0                        81.0          87.0   \n",
       "8256                      138.0                        94.0          89.0   \n",
       "\n",
       "      systolic_blood_pressure_2  diastolic_blood_pressure_2  heart_rate_2  \\\n",
       "5010                      136.0                        80.0          89.0   \n",
       "8256                      130.0                        80.0          87.0   \n",
       "\n",
       "      province_enc  \n",
       "5010             6  \n",
       "8256             6  "
      ]
     },
     "execution_count": 157,
     "metadata": {},
     "output_type": "execute_result"
    }
   ],
   "source": [
    "#those with 10 digits include month, date\n",
    "hbp[hbp[\"birth_year\"].str.len()==10]"
   ]
  },
  {
   "cell_type": "code",
   "execution_count": 158,
   "id": "918b45ab-25bf-403e-9caa-f72c383f129a",
   "metadata": {},
   "outputs": [],
   "source": [
    "#use year only\n",
    "hbp[\"birth_year\"].replace('04/29/1905', '1905', inplace = True)\n",
    "hbp[\"birth_year\"].replace('04/19/1905', '1905', inplace = True)"
   ]
  },
  {
   "cell_type": "code",
   "execution_count": 159,
   "id": "f2c9f72b-f3b6-4d1a-b52f-a74d9d81fdd4",
   "metadata": {},
   "outputs": [
    {
     "data": {
      "text/plain": [
       "4.0    20555\n",
       "Name: birth_year, dtype: int64"
      ]
     },
     "execution_count": 159,
     "metadata": {},
     "output_type": "execute_result"
    }
   ],
   "source": [
    "#double check\n",
    "hbp[\"birth_year\"].str.len().value_counts()"
   ]
  },
  {
   "cell_type": "code",
   "execution_count": 160,
   "id": "3f34c105-f4d2-469c-900e-753f97c97e24",
   "metadata": {},
   "outputs": [],
   "source": [
    "#convert to float, can't use int because there are NaN\n",
    "hbp[\"birth_year\"] = hbp[\"birth_year\"].astype(float)"
   ]
  },
  {
   "cell_type": "code",
   "execution_count": 161,
   "id": "124792fe-fbc9-431a-b687-675d93e4602b",
   "metadata": {},
   "outputs": [],
   "source": [
    "#calculate age\n",
    "hbp[\"age\"] = hbp[\"survey_year\"] - hbp[\"birth_year\"]"
   ]
  },
  {
   "cell_type": "code",
   "execution_count": 162,
   "id": "03c13ead-97fd-464f-9e5c-f8c24620d873",
   "metadata": {},
   "outputs": [
    {
     "data": {
      "image/png": "[encoded data removed]",
      "text/plain": [
       "<Figure size 432x288 with 1 Axes>"
      ]
     },
     "metadata": {
      "needs_background": "light"
     },
     "output_type": "display_data"
    }
   ],
   "source": [
    "#age distribution\n",
    "#near normal distribution, avg. age is ~55\n",
    "hbp[\"age\"].hist(bins = 30);"
   ]
  },
  {
   "cell_type": "markdown",
   "id": "92a2b615-d535-406a-9334-97393ac6119c",
   "metadata": {},
   "source": [
    "## 2.2. Gender"
   ]
  },
  {
   "cell_type": "code",
   "execution_count": 163,
   "id": "2235f528-5ad1-49f7-ac2c-8882aab3936d",
   "metadata": {},
   "outputs": [
    {
     "data": {
      "text/plain": [
       "2    12375\n",
       "1     8395\n",
       "Name: gender, dtype: int64"
      ]
     },
     "execution_count": 163,
     "metadata": {},
     "output_type": "execute_result"
    }
   ],
   "source": [
    "hbp[\"gender\"].value_counts()\n",
    "#from original data 1 is male, 2 is female\n",
    "#might need to change to 0 and 1 later"
   ]
  },
  {
   "cell_type": "code",
   "execution_count": 164,
   "id": "84000a20-a675-4432-9fc3-98f2c4e3bf93",
   "metadata": {},
   "outputs": [
    {
     "data": {
      "text/plain": [
       "2    0.595811\n",
       "1    0.404189\n",
       "Name: gender, dtype: float64"
      ]
     },
     "execution_count": 164,
     "metadata": {},
     "output_type": "execute_result"
    }
   ],
   "source": [
    "hbp[\"gender\"].value_counts(normalize = True)\n",
    "#60% female, 40% male"
   ]
  },
  {
   "cell_type": "markdown",
   "id": "eddd6972-7e42-40ad-8d95-13f06d3ad62b",
   "metadata": {},
   "source": [
    "## 2.3. Body height (in cm)"
   ]
  },
  {
   "cell_type": "code",
   "execution_count": 165,
   "id": "693f2ca7-466f-43b6-979c-eda5ef939b0f",
   "metadata": {},
   "outputs": [
    {
     "data": {
      "image/png": "[encoded data removed]",
      "text/plain": [
       "<Figure size 432x288 with 1 Axes>"
      ]
     },
     "metadata": {
      "needs_background": "light"
     },
     "output_type": "display_data"
    }
   ],
   "source": [
    "hbp[\"body_height\"].hist(bins=15);\n",
    "#mean around 160 cm or 5'3\""
   ]
  },
  {
   "cell_type": "markdown",
   "id": "52f07ed7-349e-4add-a500-fad4dc35a2c1",
   "metadata": {},
   "source": [
    "## 2.4. Body weight (in kg)"
   ]
  },
  {
   "cell_type": "code",
   "execution_count": 166,
   "id": "f371aa31-683d-4c32-add4-f59c53928fb8",
   "metadata": {},
   "outputs": [
    {
     "data": {
      "text/plain": [
       "3.0      1\n",
       "32.0    12\n",
       "32.5     1\n",
       "33.0     5\n",
       "34.0    15\n",
       "        ..\n",
       "89.0     2\n",
       "90.0     3\n",
       "91.0     1\n",
       "93.0     1\n",
       "98.0     1\n",
       "Name: body_weight, Length: 114, dtype: int64"
      ]
     },
     "execution_count": 166,
     "metadata": {},
     "output_type": "execute_result"
    }
   ],
   "source": [
    "hbp[\"body_weight\"].value_counts().sort_index()\n",
    "#body_weight of 3 kg or 7 lb, probably a mistake\n",
    "#let's replace it with the mean"
   ]
  },
  {
   "cell_type": "code",
   "execution_count": 167,
   "id": "2c21890f-c971-4dc1-8543-46796c3c0bb1",
   "metadata": {},
   "outputs": [
    {
     "data": {
      "text/plain": [
       "54.51700402842788"
      ]
     },
     "execution_count": 167,
     "metadata": {},
     "output_type": "execute_result"
    }
   ],
   "source": [
    "(hbp[\"body_weight\"]).mean()"
   ]
  },
  {
   "cell_type": "code",
   "execution_count": 168,
   "id": "ffdf88a3-47cd-4800-af18-6c37df65f14a",
   "metadata": {},
   "outputs": [],
   "source": [
    "hbp[\"body_weight\"].replace(3.0, 54.5, inplace = True)"
   ]
  },
  {
   "cell_type": "code",
   "execution_count": 169,
   "id": "81edc467-3d2e-47d7-aad8-7bd9d27584ab",
   "metadata": {},
   "outputs": [
    {
     "data": {
      "image/png": "[encoded data removed]",
      "text/plain": [
       "<Figure size 432x288 with 1 Axes>"
      ]
     },
     "metadata": {
      "needs_background": "light"
     },
     "output_type": "display_data"
    }
   ],
   "source": [
    "#body_weight distribution\n",
    "#a little right skewed\n",
    "#mean around 55 kg or 120 lb\n",
    "hbp[\"body_weight\"].hist(bins=15);"
   ]
  },
  {
   "cell_type": "markdown",
   "id": "c79868ac-eff3-4f7a-9a61-21370695cce1",
   "metadata": {},
   "source": [
    "## 2.5. Smoker"
   ]
  },
  {
   "cell_type": "code",
   "execution_count": 170,
   "id": "6bee39f0-f8ba-42e5-9b31-7fbdab3e15f5",
   "metadata": {},
   "outputs": [
    {
     "data": {
      "text/plain": [
       "0.0    16365\n",
       "1.0     3590\n",
       "3.0       37\n",
       "2.0        1\n",
       "Name: smoker, dtype: int64"
      ]
     },
     "execution_count": 170,
     "metadata": {},
     "output_type": "execute_result"
    }
   ],
   "source": [
    "hbp[\"smoker\"].value_counts()"
   ]
  },
  {
   "cell_type": "code",
   "execution_count": 171,
   "id": "1b3fe8f6-24aa-4052-a479-3537e6f8b2c0",
   "metadata": {},
   "outputs": [],
   "source": [
    "#0 is non-smoker, 1 is smoker\n",
    "#why 2 and 3?"
   ]
  },
  {
   "cell_type": "markdown",
   "id": "3c2e821d-356c-4c35-a8d5-4ee514a9941b",
   "metadata": {},
   "source": [
    "## 2.6. High blood pressure"
   ]
  },
  {
   "cell_type": "code",
   "execution_count": 172,
   "id": "f26c54f3-4ecb-482c-a0bc-577c55a2452e",
   "metadata": {},
   "outputs": [
    {
     "data": {
      "text/plain": [
       "0    15862\n",
       "1     4741\n",
       "3      166\n",
       "2        1\n",
       "Name: high_blood_pressure, dtype: int64"
      ]
     },
     "execution_count": 172,
     "metadata": {},
     "output_type": "execute_result"
    }
   ],
   "source": [
    "hbp[\"high_blood_pressure\"].value_counts()"
   ]
  },
  {
   "cell_type": "code",
   "execution_count": 173,
   "id": "3baab1ab-5c48-42d4-93fb-c7017c8544f8",
   "metadata": {},
   "outputs": [],
   "source": [
    "#0 means no high blood pressure\n",
    "#1 means high blood pressure\n",
    "#why 2 and 3?"
   ]
  },
  {
   "cell_type": "markdown",
   "id": "c170bbb4-c937-4f2e-b8aa-520099983de3",
   "metadata": {},
   "source": [
    "## 2.7. Under_treatment"
   ]
  },
  {
   "cell_type": "code",
   "execution_count": 174,
   "id": "bacccfff-898a-4972-a6be-1feb8ff3e24c",
   "metadata": {},
   "outputs": [
    {
     "data": {
      "text/plain": [
       "0.0    15474\n",
       "1.0     4359\n",
       "3.0      119\n",
       "2.0        1\n",
       "Name: under_treatment, dtype: int64"
      ]
     },
     "execution_count": 174,
     "metadata": {},
     "output_type": "execute_result"
    }
   ],
   "source": [
    "hbp[\"under_treatment\"].value_counts()"
   ]
  },
  {
   "cell_type": "code",
   "execution_count": 175,
   "id": "d9d3a720-14ec-4e8e-934e-beece9133d75",
   "metadata": {},
   "outputs": [],
   "source": [
    "#float because there are NaN\n",
    "#0.0 means currently not under treament\n",
    "#1.0 means currently receiving treatment\n",
    "#why 2.0 and 3.0?"
   ]
  },
  {
   "cell_type": "code",
   "execution_count": 176,
   "id": "dc422e1d-0ef0-4f9b-a1c3-ae85b4dd6118",
   "metadata": {},
   "outputs": [
    {
     "data": {
      "text/plain": [
       "4132"
      ]
     },
     "execution_count": 176,
     "metadata": {},
     "output_type": "execute_result"
    }
   ],
   "source": [
    "len(hbp[(hbp[\"high_blood_pressure\"]==1) & (hbp[\"under_treatment\"]==1.0)])\n",
    "#most people with high blood pressure are receiving treament"
   ]
  },
  {
   "cell_type": "markdown",
   "id": "30b9090f-fdf0-4ffe-836a-449baa9c43f3",
   "metadata": {},
   "source": [
    "## 2.8. Lipid"
   ]
  },
  {
   "cell_type": "code",
   "execution_count": 177,
   "id": "1e932600-4a79-41ce-923a-1c831427e35a",
   "metadata": {},
   "outputs": [
    {
     "data": {
      "text/plain": [
       "0.0    16325\n",
       "3.0     1795\n",
       "1.0     1328\n",
       "Name: lipid, dtype: int64"
      ]
     },
     "execution_count": 177,
     "metadata": {},
     "output_type": "execute_result"
    }
   ],
   "source": [
    "hbp[\"lipid\"].value_counts()"
   ]
  },
  {
   "cell_type": "code",
   "execution_count": 178,
   "id": "0caaa029-496a-414b-b192-e97f15270894",
   "metadata": {},
   "outputs": [],
   "source": [
    "#not exactly sure about his indicator\n",
    "#0.0 probably means normal blood lipid level\n",
    "#1.0 and 3.0 means elevated levels"
   ]
  },
  {
   "cell_type": "markdown",
   "id": "694620f5-b9eb-4215-8aa8-99b731728f04",
   "metadata": {},
   "source": [
    "## 2.9. Diabetes"
   ]
  },
  {
   "cell_type": "code",
   "execution_count": 179,
   "id": "dc79da4d-4488-444e-9a73-425fb071fd95",
   "metadata": {},
   "outputs": [
    {
     "data": {
      "text/plain": [
       "0.0    16776\n",
       "1.0     1555\n",
       "3.0     1350\n",
       "Name: diabetes, dtype: int64"
      ]
     },
     "execution_count": 179,
     "metadata": {},
     "output_type": "execute_result"
    }
   ],
   "source": [
    "hbp[\"diabetes\"].value_counts()"
   ]
  },
  {
   "cell_type": "code",
   "execution_count": 180,
   "id": "d104d229-8abf-44d0-8a8b-3064950967b1",
   "metadata": {},
   "outputs": [],
   "source": [
    "#float because of NaN\n",
    "#0 means no diabete\n",
    "#1 means having diabete\n",
    "#why 3?"
   ]
  },
  {
   "cell_type": "markdown",
   "id": "b17d4ca4-00e2-4d96-bec6-8e38e2853a1b",
   "metadata": {
    "tags": []
   },
   "source": [
    "## 2.10. Systolic blood pressure 1"
   ]
  },
  {
   "cell_type": "code",
   "execution_count": 181,
   "id": "7b20d3be-c2e4-4f48-bdab-a1d53bcf5c11",
   "metadata": {},
   "outputs": [
    {
     "data": {
      "image/png": "[encoded data removed]",
      "text/plain": [
       "<Figure size 432x288 with 1 Axes>"
      ]
     },
     "metadata": {
      "needs_background": "light"
     },
     "output_type": "display_data"
    }
   ],
   "source": [
    "hbp[\"systolic_blood_pressure_1\"].hist(bins=22);\n",
    "#look reasonable"
   ]
  },
  {
   "cell_type": "markdown",
   "id": "882571fd-8d2c-4493-bb7e-f2364c84630d",
   "metadata": {},
   "source": [
    "## 2.11. Diastolic blood pressure 1"
   ]
  },
  {
   "cell_type": "code",
   "execution_count": 182,
   "id": "363d48fe-d329-40ba-b8f3-ff32053397f4",
   "metadata": {},
   "outputs": [
    {
     "data": {
      "image/png": "[encoded data removed]",
      "text/plain": [
       "<Figure size 432x288 with 1 Axes>"
      ]
     },
     "metadata": {
      "needs_background": "light"
     },
     "output_type": "display_data"
    }
   ],
   "source": [
    "hbp[\"diastolic_blood_pressure_1\"].hist(bins=22);"
   ]
  },
  {
   "cell_type": "code",
   "execution_count": 183,
   "id": "db3c6854-f8cf-43e7-a796-6b8429422dfe",
   "metadata": {},
   "outputs": [
    {
     "data": {
      "text/html": [
       "<div>\n",
       "<style scoped>\n",
       "    .dataframe tbody tr th:only-of-type {\n",
       "        vertical-align: middle;\n",
       "    }\n",
       "\n",
       "    .dataframe tbody tr th {\n",
       "        vertical-align: top;\n",
       "    }\n",
       "\n",
       "    .dataframe thead th {\n",
       "        text-align: right;\n",
       "    }\n",
       "</style>\n",
       "<table border=\"1\" class=\"dataframe\">\n",
       "  <thead>\n",
       "    <tr style=\"text-align: right;\">\n",
       "      <th></th>\n",
       "      <th>survey_time</th>\n",
       "      <th>survey_year</th>\n",
       "      <th>birth_year</th>\n",
       "      <th>gender</th>\n",
       "      <th>body_height</th>\n",
       "      <th>body_weight</th>\n",
       "      <th>smoker</th>\n",
       "      <th>high_blood_pressure</th>\n",
       "      <th>under_treatment</th>\n",
       "      <th>lipid</th>\n",
       "      <th>diabetes</th>\n",
       "      <th>systolic_blood_pressure_1</th>\n",
       "      <th>diastolic_blood_pressure_1</th>\n",
       "      <th>heart_rate_1</th>\n",
       "      <th>systolic_blood_pressure_2</th>\n",
       "      <th>diastolic_blood_pressure_2</th>\n",
       "      <th>heart_rate_2</th>\n",
       "      <th>province_enc</th>\n",
       "      <th>age</th>\n",
       "    </tr>\n",
       "  </thead>\n",
       "  <tbody>\n",
       "    <tr>\n",
       "      <th>8727</th>\n",
       "      <td>01/01/2020</td>\n",
       "      <td>2020.0</td>\n",
       "      <td>1983.0</td>\n",
       "      <td>2</td>\n",
       "      <td>153.0</td>\n",
       "      <td>59.0</td>\n",
       "      <td>0.0</td>\n",
       "      <td>0</td>\n",
       "      <td>0.0</td>\n",
       "      <td>0.0</td>\n",
       "      <td>0.0</td>\n",
       "      <td>126.0</td>\n",
       "      <td>136.0</td>\n",
       "      <td>90.0</td>\n",
       "      <td>120.0</td>\n",
       "      <td>70.0</td>\n",
       "      <td>75.0</td>\n",
       "      <td>14</td>\n",
       "      <td>37.0</td>\n",
       "    </tr>\n",
       "  </tbody>\n",
       "</table>\n",
       "</div>"
      ],
      "text/plain": [
       "     survey_time  survey_year  birth_year  gender  body_height  body_weight  \\\n",
       "8727  01/01/2020       2020.0      1983.0       2        153.0         59.0   \n",
       "\n",
       "      smoker  high_blood_pressure  under_treatment  lipid  diabetes  \\\n",
       "8727     0.0                    0              0.0    0.0       0.0   \n",
       "\n",
       "      systolic_blood_pressure_1  diastolic_blood_pressure_1  heart_rate_1  \\\n",
       "8727                      126.0                       136.0          90.0   \n",
       "\n",
       "      systolic_blood_pressure_2  diastolic_blood_pressure_2  heart_rate_2  \\\n",
       "8727                      120.0                        70.0          75.0   \n",
       "\n",
       "      province_enc   age  \n",
       "8727            14  37.0  "
      ]
     },
     "execution_count": 183,
     "metadata": {},
     "output_type": "execute_result"
    }
   ],
   "source": [
    "hbp[hbp[\"diastolic_blood_pressure_1\"] > hbp[\"systolic_blood_pressure_1\"]]\n",
    "#there might be something wrong the first set of pressure in this case\n",
    "#the second set looks normal"
   ]
  },
  {
   "cell_type": "markdown",
   "id": "3f726056-5075-430c-9dd9-6d1a56f3054a",
   "metadata": {},
   "source": [
    "## 2.12. Heart Rate 1"
   ]
  },
  {
   "cell_type": "code",
   "execution_count": 184,
   "id": "a5a66c9d-7b7a-4a15-83d3-ff0155890738",
   "metadata": {},
   "outputs": [
    {
     "data": {
      "text/plain": [
       "12183.0    1\n",
       "984.0      1\n",
       "820.0      1\n",
       "763.0      1\n",
       "582.0      1\n",
       "403.0      1\n",
       "175.0      1\n",
       "160.0      1\n",
       "148.0      1\n",
       "145.0      1\n",
       "Name: heart_rate_1, dtype: int64"
      ]
     },
     "execution_count": 184,
     "metadata": {},
     "output_type": "execute_result"
    }
   ],
   "source": [
    "hbp[\"heart_rate_1\"].value_counts().sort_index(ascending=False).head(10)\n",
    "#heart rates over 400 look odd"
   ]
  },
  {
   "cell_type": "code",
   "execution_count": 185,
   "id": "703ba9e3-df3b-4b26-ba21-77ac14729218",
   "metadata": {},
   "outputs": [
    {
     "name": "stdout",
     "output_type": "stream",
     "text": [
      "<class 'pandas.core.frame.DataFrame'>\n",
      "RangeIndex: 20770 entries, 0 to 20769\n",
      "Data columns (total 19 columns):\n",
      " #   Column                      Non-Null Count  Dtype  \n",
      "---  ------                      --------------  -----  \n",
      " 0   survey_time                 18536 non-null  object \n",
      " 1   survey_year                 20768 non-null  float64\n",
      " 2   birth_year                  20555 non-null  float64\n",
      " 3   gender                      20770 non-null  int64  \n",
      " 4   body_height                 19808 non-null  float64\n",
      " 5   body_weight                 19860 non-null  float64\n",
      " 6   smoker                      19993 non-null  float64\n",
      " 7   high_blood_pressure         20770 non-null  int64  \n",
      " 8   under_treatment             19953 non-null  float64\n",
      " 9   lipid                       19448 non-null  float64\n",
      " 10  diabetes                    19681 non-null  float64\n",
      " 11  systolic_blood_pressure_1   20737 non-null  float64\n",
      " 12  diastolic_blood_pressure_1  20739 non-null  float64\n",
      " 13  heart_rate_1                20613 non-null  float64\n",
      " 14  systolic_blood_pressure_2   19753 non-null  float64\n",
      " 15  diastolic_blood_pressure_2  19753 non-null  float64\n",
      " 16  heart_rate_2                18552 non-null  float64\n",
      " 17  province_enc                20770 non-null  int64  \n",
      " 18  age                         20553 non-null  float64\n",
      "dtypes: float64(15), int64(3), object(1)\n",
      "memory usage: 3.0+ MB\n"
     ]
    }
   ],
   "source": [
    "hbp.info()"
   ]
  },
  {
   "cell_type": "code",
   "execution_count": 187,
   "id": "f75c997f-b28f-4a96-a9e8-c7b9ab3e02eb",
   "metadata": {},
   "outputs": [],
   "source": [
    "#remove 6 records with extremly high heart_rate_1\n",
    "heart_rate_1_normal = ~(hbp[\"heart_rate_1\"] > 400)\n",
    "hbp = hbp[heart_rate_1_normal]"
   ]
  },
  {
   "cell_type": "code",
   "execution_count": 191,
   "id": "75eaaeb4-830e-4048-a1be-4c7dd6645944",
   "metadata": {},
   "outputs": [
    {
     "data": {
      "image/png": "[encoded data removed]",
      "text/plain": [
       "<Figure size 432x288 with 1 Axes>"
      ]
     },
     "metadata": {
      "needs_background": "light"
     },
     "output_type": "display_data"
    }
   ],
   "source": [
    "hbp[\"heart_rate_1\"].hist(bins=30);\n",
    "#heart_rate_1 distribution"
   ]
  },
  {
   "cell_type": "markdown",
   "id": "2fc543d9-99ec-4f3a-8558-861679d7286c",
   "metadata": {
    "tags": []
   },
   "source": [
    "## 2.13. Systolic blood pressure 2"
   ]
  },
  {
   "cell_type": "code",
   "execution_count": 192,
   "id": "fecab5f6-0b9a-4f2e-9ace-5e81e406501c",
   "metadata": {},
   "outputs": [
    {
     "data": {
      "image/png": "[encoded data removed]",
      "text/plain": [
       "<Figure size 432x288 with 1 Axes>"
      ]
     },
     "metadata": {
      "needs_background": "light"
     },
     "output_type": "display_data"
    }
   ],
   "source": [
    "hbp[\"systolic_blood_pressure_2\"].hist(bins=22);\n",
    "#look reasonable"
   ]
  },
  {
   "cell_type": "markdown",
   "id": "7029aa10-dcf3-4cc2-8486-9326fc38f2e4",
   "metadata": {},
   "source": [
    "## 2.14. Diastolic blood pressure 2"
   ]
  },
  {
   "cell_type": "code",
   "execution_count": 194,
   "id": "b5415144-1819-4c90-a064-3287eceeca6a",
   "metadata": {},
   "outputs": [
    {
     "data": {
      "image/png": "[encoded data removed]",
      "text/plain": [
       "<Figure size 432x288 with 1 Axes>"
      ]
     },
     "metadata": {
      "needs_background": "light"
     },
     "output_type": "display_data"
    }
   ],
   "source": [
    "hbp[\"diastolic_blood_pressure_2\"].hist(bins=22);\n",
    "#look reasonable"
   ]
  },
  {
   "cell_type": "markdown",
   "id": "4a1a6474-1d40-44b5-83a9-f56572d7910d",
   "metadata": {},
   "source": [
    "## 2.15. Heart Rate 2"
   ]
  },
  {
   "cell_type": "code",
   "execution_count": 196,
   "id": "cc411392-1a69-4e56-87fe-cd93f91c87e0",
   "metadata": {},
   "outputs": [
    {
     "data": {
      "image/png": "[encoded data removed]",
      "text/plain": [
       "<Figure size 432x288 with 1 Axes>"
      ]
     },
     "metadata": {
      "needs_background": "light"
     },
     "output_type": "display_data"
    }
   ],
   "source": [
    "hbp[\"heart_rate_2\"].hist(bins=30);\n",
    "#heart_rate_2 distribution"
   ]
  },
  {
   "cell_type": "markdown",
   "id": "904a367d-c528-4388-9203-600c361521e0",
   "metadata": {},
   "source": [
    "# 2. "
   ]
  }
 ],
 "metadata": {
  "kernelspec": {
   "display_name": "Python 3 (ipykernel)",
   "language": "python",
   "name": "python3"
  },
  "language_info": {
   "codemirror_mode": {
    "name": "ipython",
    "version": 3
   },
   "file_extension": ".py",
   "mimetype": "text/x-python",
   "name": "python",
   "nbconvert_exporter": "python",
   "pygments_lexer": "ipython3",
   "version": "3.9.7"
  }
 },
 "nbformat": 4,
 "nbformat_minor": 5
}
