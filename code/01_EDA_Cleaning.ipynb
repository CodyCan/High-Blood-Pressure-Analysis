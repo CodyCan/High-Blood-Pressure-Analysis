{
 "cells": [
  {
   "cell_type": "code",
   "execution_count": 1,
   "id": "7decc634-f5e4-4120-a2bc-c36323c2404f",
   "metadata": {},
   "outputs": [],
   "source": [
    "import pandas as pd\n",
    "import numpy as np\n",
    "import matplotlib.pyplot as plt"
   ]
  },
  {
   "cell_type": "code",
   "execution_count": 2,
   "id": "15c567f6-1a0c-4929-b899-470b7b63cb3f",
   "metadata": {},
   "outputs": [
    {
     "name": "stdout",
     "output_type": "stream",
     "text": [
      "<class 'pandas.core.frame.DataFrame'>\n",
      "RangeIndex: 20770 entries, 0 to 20769\n",
      "Data columns (total 18 columns):\n",
      " #   Column                      Non-Null Count  Dtype  \n",
      "---  ------                      --------------  -----  \n",
      " 0   survey_time                 18536 non-null  object \n",
      " 1   survey_year                 20768 non-null  float64\n",
      " 2   birth_year                  20555 non-null  object \n",
      " 3   gender                      20770 non-null  int64  \n",
      " 4   province                    20770 non-null  object \n",
      " 5   body_height                 19808 non-null  float64\n",
      " 6   body_weight                 19860 non-null  float64\n",
      " 7   smoker                      19993 non-null  float64\n",
      " 8   high_blood_pressure         20770 non-null  int64  \n",
      " 9   under_treatment             19953 non-null  float64\n",
      " 10  lipid                       19448 non-null  float64\n",
      " 11  diabetes                    19681 non-null  float64\n",
      " 12  systolic_blood_pressure_1   20737 non-null  float64\n",
      " 13  diastolic_blood_pressure_1  20739 non-null  float64\n",
      " 14  heart_rate_1                20613 non-null  float64\n",
      " 15  systolic_blood_pressure_2   19753 non-null  float64\n",
      " 16  diastolic_blood_pressure_2  19753 non-null  float64\n",
      " 17  heart_rate_2                18552 non-null  float64\n",
      "dtypes: float64(13), int64(2), object(3)\n",
      "memory usage: 2.9+ MB\n"
     ]
    },
    {
     "ename": "NameError",
     "evalue": "name 'hpb' is not defined",
     "output_type": "error",
     "traceback": [
      "\u001b[0;31m---------------------------------------------------------------------------\u001b[0m",
      "\u001b[0;31mNameError\u001b[0m                                 Traceback (most recent call last)",
      "\u001b[0;32m/var/folders/4l/l8w9znr11xqbwb4tv7cw90lc0000gn/T/ipykernel_83621/221710184.py\u001b[0m in \u001b[0;36m<module>\u001b[0;34m\u001b[0m\n\u001b[1;32m      1\u001b[0m \u001b[0mhbp\u001b[0m \u001b[0;34m=\u001b[0m \u001b[0mpd\u001b[0m\u001b[0;34m.\u001b[0m\u001b[0mread_csv\u001b[0m\u001b[0;34m(\u001b[0m\u001b[0;34m\"../data/high_blood_pressure_VN_2020.csv\"\u001b[0m\u001b[0;34m)\u001b[0m\u001b[0;34m\u001b[0m\u001b[0;34m\u001b[0m\u001b[0m\n\u001b[1;32m      2\u001b[0m \u001b[0mhbp\u001b[0m\u001b[0;34m.\u001b[0m\u001b[0minfo\u001b[0m\u001b[0;34m(\u001b[0m\u001b[0;34m)\u001b[0m\u001b[0;34m\u001b[0m\u001b[0;34m\u001b[0m\u001b[0m\n\u001b[0;32m----> 3\u001b[0;31m \u001b[0mhpb\u001b[0m\u001b[0;34m.\u001b[0m\u001b[0mhead\u001b[0m\u001b[0;34m(\u001b[0m\u001b[0;34m)\u001b[0m\u001b[0;34m\u001b[0m\u001b[0;34m\u001b[0m\u001b[0m\n\u001b[0m",
      "\u001b[0;31mNameError\u001b[0m: name 'hpb' is not defined"
     ]
    }
   ],
   "source": [
    "hbp = pd.read_csv(\"../data/high_blood_pressure_VN_2020.csv\")\n",
    "hbp.info()\n",
    "hbp.head()"
   ]
  },
  {
   "cell_type": "code",
   "execution_count": null,
   "id": "c6d15f87-5b71-4395-968e-9e21090b8ffc",
   "metadata": {},
   "outputs": [],
   "source": []
  }
 ],
 "metadata": {
  "kernelspec": {
   "display_name": "Python 3 (ipykernel)",
   "language": "python",
   "name": "python3"
  },
  "language_info": {
   "codemirror_mode": {
    "name": "ipython",
    "version": 3
   },
   "file_extension": ".py",
   "mimetype": "text/x-python",
   "name": "python",
   "nbconvert_exporter": "python",
   "pygments_lexer": "ipython3",
   "version": "3.9.7"
  }
 },
 "nbformat": 4,
 "nbformat_minor": 5
}
