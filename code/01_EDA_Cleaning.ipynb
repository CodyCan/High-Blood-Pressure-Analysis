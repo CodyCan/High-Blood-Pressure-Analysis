{
 "cells": [
  {
   "cell_type": "markdown",
   "id": "e3816fe2-ba35-4a86-b9eb-30cb1933b680",
   "metadata": {},
   "source": [
    "# 1. EDA and Data Cleaning"
   ]
  },
  {
   "cell_type": "code",
   "execution_count": 1,
   "id": "7decc634-f5e4-4120-a2bc-c36323c2404f",
   "metadata": {},
   "outputs": [],
   "source": [
    "import pandas as pd\n",
    "import numpy as np\n",
    "import matplotlib.pyplot as plt"
   ]
  },
  {
   "cell_type": "markdown",
   "id": "3d3b967f-2464-4527-b6e4-d20e83037c6c",
   "metadata": {},
   "source": [
    "> Personal data are removed, province names are also encoded to protect patients privacy."
   ]
  },
  {
   "cell_type": "code",
   "execution_count": 2,
   "id": "15c567f6-1a0c-4929-b899-470b7b63cb3f",
   "metadata": {},
   "outputs": [
    {
     "name": "stdout",
     "output_type": "stream",
     "text": [
      "<class 'pandas.core.frame.DataFrame'>\n",
      "RangeIndex: 20770 entries, 0 to 20769\n",
      "Data columns (total 18 columns):\n",
      " #   Column                      Non-Null Count  Dtype  \n",
      "---  ------                      --------------  -----  \n",
      " 0   survey_time                 18536 non-null  object \n",
      " 1   survey_year                 20768 non-null  float64\n",
      " 2   birth_year                  20555 non-null  object \n",
      " 3   gender                      20770 non-null  int64  \n",
      " 4   body_height                 19808 non-null  float64\n",
      " 5   body_weight                 19860 non-null  float64\n",
      " 6   smoker                      19993 non-null  float64\n",
      " 7   high_blood_pressure         20770 non-null  int64  \n",
      " 8   under_treatment             19953 non-null  float64\n",
      " 9   lipid                       19448 non-null  float64\n",
      " 10  diabetes                    19681 non-null  float64\n",
      " 11  systolic_blood_pressure_1   20737 non-null  float64\n",
      " 12  diastolic_blood_pressure_1  20739 non-null  float64\n",
      " 13  heart_rate_1                20613 non-null  float64\n",
      " 14  systolic_blood_pressure_2   19753 non-null  float64\n",
      " 15  diastolic_blood_pressure_2  19753 non-null  float64\n",
      " 16  heart_rate_2                18552 non-null  float64\n",
      " 17  province_enc                20770 non-null  int64  \n",
      "dtypes: float64(13), int64(3), object(2)\n",
      "memory usage: 2.9+ MB\n"
     ]
    },
    {
     "data": {
      "text/html": [
       "<div>\n",
       "<style scoped>\n",
       "    .dataframe tbody tr th:only-of-type {\n",
       "        vertical-align: middle;\n",
       "    }\n",
       "\n",
       "    .dataframe tbody tr th {\n",
       "        vertical-align: top;\n",
       "    }\n",
       "\n",
       "    .dataframe thead th {\n",
       "        text-align: right;\n",
       "    }\n",
       "</style>\n",
       "<table border=\"1\" class=\"dataframe\">\n",
       "  <thead>\n",
       "    <tr style=\"text-align: right;\">\n",
       "      <th></th>\n",
       "      <th>survey_time</th>\n",
       "      <th>survey_year</th>\n",
       "      <th>birth_year</th>\n",
       "      <th>gender</th>\n",
       "      <th>body_height</th>\n",
       "      <th>body_weight</th>\n",
       "      <th>smoker</th>\n",
       "      <th>high_blood_pressure</th>\n",
       "      <th>under_treatment</th>\n",
       "      <th>lipid</th>\n",
       "      <th>diabetes</th>\n",
       "      <th>systolic_blood_pressure_1</th>\n",
       "      <th>diastolic_blood_pressure_1</th>\n",
       "      <th>heart_rate_1</th>\n",
       "      <th>systolic_blood_pressure_2</th>\n",
       "      <th>diastolic_blood_pressure_2</th>\n",
       "      <th>heart_rate_2</th>\n",
       "      <th>province_enc</th>\n",
       "    </tr>\n",
       "  </thead>\n",
       "  <tbody>\n",
       "    <tr>\n",
       "      <th>0</th>\n",
       "      <td>19/2/2020</td>\n",
       "      <td>2020.0</td>\n",
       "      <td>1963</td>\n",
       "      <td>1</td>\n",
       "      <td>NaN</td>\n",
       "      <td>NaN</td>\n",
       "      <td>1.0</td>\n",
       "      <td>0</td>\n",
       "      <td>NaN</td>\n",
       "      <td>NaN</td>\n",
       "      <td>NaN</td>\n",
       "      <td>130.0</td>\n",
       "      <td>70.0</td>\n",
       "      <td>78.0</td>\n",
       "      <td>120.0</td>\n",
       "      <td>80.0</td>\n",
       "      <td>78.0</td>\n",
       "      <td>0</td>\n",
       "    </tr>\n",
       "    <tr>\n",
       "      <th>1</th>\n",
       "      <td>01/01/2020</td>\n",
       "      <td>2020.0</td>\n",
       "      <td>1949</td>\n",
       "      <td>1</td>\n",
       "      <td>160.0</td>\n",
       "      <td>50.0</td>\n",
       "      <td>0.0</td>\n",
       "      <td>0</td>\n",
       "      <td>0.0</td>\n",
       "      <td>0.0</td>\n",
       "      <td>0.0</td>\n",
       "      <td>124.0</td>\n",
       "      <td>70.0</td>\n",
       "      <td>68.0</td>\n",
       "      <td>120.0</td>\n",
       "      <td>70.0</td>\n",
       "      <td>72.0</td>\n",
       "      <td>0</td>\n",
       "    </tr>\n",
       "    <tr>\n",
       "      <th>2</th>\n",
       "      <td>12/12/2018</td>\n",
       "      <td>2018.0</td>\n",
       "      <td>2001</td>\n",
       "      <td>1</td>\n",
       "      <td>165.0</td>\n",
       "      <td>52.0</td>\n",
       "      <td>0.0</td>\n",
       "      <td>0</td>\n",
       "      <td>0.0</td>\n",
       "      <td>0.0</td>\n",
       "      <td>0.0</td>\n",
       "      <td>100.0</td>\n",
       "      <td>60.0</td>\n",
       "      <td>90.0</td>\n",
       "      <td>110.0</td>\n",
       "      <td>70.0</td>\n",
       "      <td>90.0</td>\n",
       "      <td>0</td>\n",
       "    </tr>\n",
       "    <tr>\n",
       "      <th>3</th>\n",
       "      <td>01/01/2020</td>\n",
       "      <td>2020.0</td>\n",
       "      <td>1960</td>\n",
       "      <td>1</td>\n",
       "      <td>160.0</td>\n",
       "      <td>63.0</td>\n",
       "      <td>0.0</td>\n",
       "      <td>1</td>\n",
       "      <td>1.0</td>\n",
       "      <td>0.0</td>\n",
       "      <td>0.0</td>\n",
       "      <td>130.0</td>\n",
       "      <td>79.0</td>\n",
       "      <td>87.0</td>\n",
       "      <td>123.0</td>\n",
       "      <td>74.0</td>\n",
       "      <td>87.0</td>\n",
       "      <td>0</td>\n",
       "    </tr>\n",
       "    <tr>\n",
       "      <th>4</th>\n",
       "      <td>01/01/2020</td>\n",
       "      <td>2020.0</td>\n",
       "      <td>1950</td>\n",
       "      <td>1</td>\n",
       "      <td>164.0</td>\n",
       "      <td>61.0</td>\n",
       "      <td>0.0</td>\n",
       "      <td>0</td>\n",
       "      <td>0.0</td>\n",
       "      <td>0.0</td>\n",
       "      <td>0.0</td>\n",
       "      <td>118.0</td>\n",
       "      <td>86.0</td>\n",
       "      <td>73.0</td>\n",
       "      <td>110.0</td>\n",
       "      <td>60.0</td>\n",
       "      <td>80.0</td>\n",
       "      <td>0</td>\n",
       "    </tr>\n",
       "  </tbody>\n",
       "</table>\n",
       "</div>"
      ],
      "text/plain": [
       "  survey_time  survey_year birth_year  gender  body_height  body_weight  \\\n",
       "0   19/2/2020       2020.0       1963       1          NaN          NaN   \n",
       "1  01/01/2020       2020.0       1949       1        160.0         50.0   \n",
       "2  12/12/2018       2018.0       2001       1        165.0         52.0   \n",
       "3  01/01/2020       2020.0       1960       1        160.0         63.0   \n",
       "4  01/01/2020       2020.0       1950       1        164.0         61.0   \n",
       "\n",
       "   smoker  high_blood_pressure  under_treatment  lipid  diabetes  \\\n",
       "0     1.0                    0              NaN    NaN       NaN   \n",
       "1     0.0                    0              0.0    0.0       0.0   \n",
       "2     0.0                    0              0.0    0.0       0.0   \n",
       "3     0.0                    1              1.0    0.0       0.0   \n",
       "4     0.0                    0              0.0    0.0       0.0   \n",
       "\n",
       "   systolic_blood_pressure_1  diastolic_blood_pressure_1  heart_rate_1  \\\n",
       "0                      130.0                        70.0          78.0   \n",
       "1                      124.0                        70.0          68.0   \n",
       "2                      100.0                        60.0          90.0   \n",
       "3                      130.0                        79.0          87.0   \n",
       "4                      118.0                        86.0          73.0   \n",
       "\n",
       "   systolic_blood_pressure_2  diastolic_blood_pressure_2  heart_rate_2  \\\n",
       "0                      120.0                        80.0          78.0   \n",
       "1                      120.0                        70.0          72.0   \n",
       "2                      110.0                        70.0          90.0   \n",
       "3                      123.0                        74.0          87.0   \n",
       "4                      110.0                        60.0          80.0   \n",
       "\n",
       "   province_enc  \n",
       "0             0  \n",
       "1             0  \n",
       "2             0  \n",
       "3             0  \n",
       "4             0  "
      ]
     },
     "execution_count": 2,
     "metadata": {},
     "output_type": "execute_result"
    }
   ],
   "source": [
    "hbp = pd.read_csv(\"../data/high_blood_pressure_VN_2020.csv\")\n",
    "hbp.info()\n",
    "hbp.head()"
   ]
  },
  {
   "cell_type": "code",
   "execution_count": 32,
   "id": "2b2e425e-3d26-466e-a614-141399a2e33d",
   "metadata": {},
   "outputs": [
    {
     "data": {
      "text/plain": [
       "survey_time                   2234\n",
       "heart_rate_2                  2218\n",
       "lipid                         1322\n",
       "diabetes                      1089\n",
       "systolic_blood_pressure_2     1017\n",
       "diastolic_blood_pressure_2    1017\n",
       "body_height                    962\n",
       "body_weight                    910\n",
       "under_treatment                817\n",
       "smoker                         777\n",
       "age                            217\n",
       "birth_year                     215\n",
       "heart_rate_1                   157\n",
       "systolic_blood_pressure_1       33\n",
       "diastolic_blood_pressure_1      31\n",
       "survey_year                      2\n",
       "gender                           0\n",
       "high_blood_pressure              0\n",
       "province_enc                     0\n",
       "dtype: int64"
      ]
     },
     "execution_count": 32,
     "metadata": {},
     "output_type": "execute_result"
    }
   ],
   "source": [
    "hbp.isna().sum().sort_values(ascending=False)"
   ]
  },
  {
   "cell_type": "markdown",
   "id": "4024a3f6-6ce7-4770-90c7-d4de9e79931f",
   "metadata": {},
   "source": [
    "## 1.1. Fix birth_year and Calculate Age"
   ]
  },
  {
   "cell_type": "code",
   "execution_count": null,
   "id": "c6d15f87-5b71-4395-968e-9e21090b8ffc",
   "metadata": {},
   "outputs": [],
   "source": [
    "#survey time doesn't have the correct dtype, but we won't use this column\n",
    "#we will only need the survey_year and the birth_year to calculate the age"
   ]
  },
  {
   "cell_type": "code",
   "execution_count": 9,
   "id": "89744416-9af6-46e1-ae17-89f0484cfd8c",
   "metadata": {},
   "outputs": [
    {
     "data": {
      "text/plain": [
       "4.0     20553\n",
       "10.0        2\n",
       "Name: birth_year, dtype: int64"
      ]
     },
     "execution_count": 9,
     "metadata": {},
     "output_type": "execute_result"
    }
   ],
   "source": [
    "#birth_year should be 4 digits\n",
    "hbp[\"birth_year\"].str.len().value_counts()"
   ]
  },
  {
   "cell_type": "code",
   "execution_count": 11,
   "id": "078a3bd4-44ab-42f5-ba3e-e6e5bea912c5",
   "metadata": {},
   "outputs": [
    {
     "data": {
      "text/html": [
       "<div>\n",
       "<style scoped>\n",
       "    .dataframe tbody tr th:only-of-type {\n",
       "        vertical-align: middle;\n",
       "    }\n",
       "\n",
       "    .dataframe tbody tr th {\n",
       "        vertical-align: top;\n",
       "    }\n",
       "\n",
       "    .dataframe thead th {\n",
       "        text-align: right;\n",
       "    }\n",
       "</style>\n",
       "<table border=\"1\" class=\"dataframe\">\n",
       "  <thead>\n",
       "    <tr style=\"text-align: right;\">\n",
       "      <th></th>\n",
       "      <th>survey_time</th>\n",
       "      <th>survey_year</th>\n",
       "      <th>birth_year</th>\n",
       "      <th>gender</th>\n",
       "      <th>body_height</th>\n",
       "      <th>body_weight</th>\n",
       "      <th>smoker</th>\n",
       "      <th>high_blood_pressure</th>\n",
       "      <th>under_treatment</th>\n",
       "      <th>lipid</th>\n",
       "      <th>diabetes</th>\n",
       "      <th>systolic_blood_pressure_1</th>\n",
       "      <th>diastolic_blood_pressure_1</th>\n",
       "      <th>heart_rate_1</th>\n",
       "      <th>systolic_blood_pressure_2</th>\n",
       "      <th>diastolic_blood_pressure_2</th>\n",
       "      <th>heart_rate_2</th>\n",
       "      <th>province_enc</th>\n",
       "    </tr>\n",
       "  </thead>\n",
       "  <tbody>\n",
       "    <tr>\n",
       "      <th>5010</th>\n",
       "      <td>04/12/2019</td>\n",
       "      <td>2019.0</td>\n",
       "      <td>04/29/1905</td>\n",
       "      <td>1</td>\n",
       "      <td>160.0</td>\n",
       "      <td>56.0</td>\n",
       "      <td>1.0</td>\n",
       "      <td>1</td>\n",
       "      <td>1.0</td>\n",
       "      <td>0.0</td>\n",
       "      <td>0.0</td>\n",
       "      <td>141.0</td>\n",
       "      <td>81.0</td>\n",
       "      <td>87.0</td>\n",
       "      <td>136.0</td>\n",
       "      <td>80.0</td>\n",
       "      <td>89.0</td>\n",
       "      <td>6</td>\n",
       "    </tr>\n",
       "    <tr>\n",
       "      <th>8256</th>\n",
       "      <td>09/12/2019</td>\n",
       "      <td>2019.0</td>\n",
       "      <td>04/19/1905</td>\n",
       "      <td>2</td>\n",
       "      <td>150.0</td>\n",
       "      <td>42.0</td>\n",
       "      <td>0.0</td>\n",
       "      <td>0</td>\n",
       "      <td>0.0</td>\n",
       "      <td>3.0</td>\n",
       "      <td>1.0</td>\n",
       "      <td>138.0</td>\n",
       "      <td>94.0</td>\n",
       "      <td>89.0</td>\n",
       "      <td>130.0</td>\n",
       "      <td>80.0</td>\n",
       "      <td>87.0</td>\n",
       "      <td>6</td>\n",
       "    </tr>\n",
       "  </tbody>\n",
       "</table>\n",
       "</div>"
      ],
      "text/plain": [
       "     survey_time  survey_year  birth_year  gender  body_height  body_weight  \\\n",
       "5010  04/12/2019       2019.0  04/29/1905       1        160.0         56.0   \n",
       "8256  09/12/2019       2019.0  04/19/1905       2        150.0         42.0   \n",
       "\n",
       "      smoker  high_blood_pressure  under_treatment  lipid  diabetes  \\\n",
       "5010     1.0                    1              1.0    0.0       0.0   \n",
       "8256     0.0                    0              0.0    3.0       1.0   \n",
       "\n",
       "      systolic_blood_pressure_1  diastolic_blood_pressure_1  heart_rate_1  \\\n",
       "5010                      141.0                        81.0          87.0   \n",
       "8256                      138.0                        94.0          89.0   \n",
       "\n",
       "      systolic_blood_pressure_2  diastolic_blood_pressure_2  heart_rate_2  \\\n",
       "5010                      136.0                        80.0          89.0   \n",
       "8256                      130.0                        80.0          87.0   \n",
       "\n",
       "      province_enc  \n",
       "5010             6  \n",
       "8256             6  "
      ]
     },
     "execution_count": 11,
     "metadata": {},
     "output_type": "execute_result"
    }
   ],
   "source": [
    "#those with 10 digits include month, date\n",
    "hbp[hbp[\"birth_year\"].str.len()==10]"
   ]
  },
  {
   "cell_type": "code",
   "execution_count": 12,
   "id": "918b45ab-25bf-403e-9caa-f72c383f129a",
   "metadata": {},
   "outputs": [],
   "source": [
    "#use year only\n",
    "hbp[\"birth_year\"].replace('04/29/1905', '1905', inplace = True)\n",
    "hbp[\"birth_year\"].replace('04/19/1905', '1905', inplace = True)"
   ]
  },
  {
   "cell_type": "code",
   "execution_count": 13,
   "id": "f2c9f72b-f3b6-4d1a-b52f-a74d9d81fdd4",
   "metadata": {},
   "outputs": [
    {
     "data": {
      "text/plain": [
       "4.0    20555\n",
       "Name: birth_year, dtype: int64"
      ]
     },
     "execution_count": 13,
     "metadata": {},
     "output_type": "execute_result"
    }
   ],
   "source": [
    "#double check\n",
    "hbp[\"birth_year\"].str.len().value_counts()"
   ]
  },
  {
   "cell_type": "code",
   "execution_count": 17,
   "id": "3f34c105-f4d2-469c-900e-753f97c97e24",
   "metadata": {},
   "outputs": [],
   "source": [
    "#convert to float, can't use int because there are NaN\n",
    "hbp[\"birth_year\"] = hbp[\"birth_year\"].astype(float)"
   ]
  },
  {
   "cell_type": "code",
   "execution_count": 21,
   "id": "124792fe-fbc9-431a-b687-675d93e4602b",
   "metadata": {},
   "outputs": [],
   "source": [
    "#calculate age\n",
    "hbp[\"age\"] = hbp[\"survey_year\"] - hbp[\"birth_year\"]"
   ]
  },
  {
   "cell_type": "code",
   "execution_count": 29,
   "id": "03c13ead-97fd-464f-9e5c-f8c24620d873",
   "metadata": {},
   "outputs": [
    {
     "data": {
      "image/png": "[encoded data removed]",
      "text/plain": [
       "<Figure size 432x288 with 1 Axes>"
      ]
     },
     "metadata": {
      "needs_background": "light"
     },
     "output_type": "display_data"
    }
   ],
   "source": [
    "#age distribution\n",
    "#near normal distribution, avg. age is ~55\n",
    "hbp[\"age\"].hist(bins = 30);"
   ]
  },
  {
   "cell_type": "markdown",
   "id": "92a2b615-d535-406a-9334-97393ac6119c",
   "metadata": {},
   "source": [
    "## 2.2. Gender"
   ]
  },
  {
   "cell_type": "code",
   "execution_count": 33,
   "id": "2235f528-5ad1-49f7-ac2c-8882aab3936d",
   "metadata": {},
   "outputs": [
    {
     "data": {
      "text/plain": [
       "2    12375\n",
       "1     8395\n",
       "Name: gender, dtype: int64"
      ]
     },
     "execution_count": 33,
     "metadata": {},
     "output_type": "execute_result"
    }
   ],
   "source": [
    "hbp[\"gender\"].value_counts()\n",
    "#from original data 1 is male, 2 is female\n",
    "#might need to change to 0 and 1 later"
   ]
  },
  {
   "cell_type": "code",
   "execution_count": null,
   "id": "84000a20-a675-4432-9fc3-98f2c4e3bf93",
   "metadata": {},
   "outputs": [],
   "source": []
  }
 ],
 "metadata": {
  "kernelspec": {
   "display_name": "Python 3 (ipykernel)",
   "language": "python",
   "name": "python3"
  },
  "language_info": {
   "codemirror_mode": {
    "name": "ipython",
    "version": 3
   },
   "file_extension": ".py",
   "mimetype": "text/x-python",
   "name": "python",
   "nbconvert_exporter": "python",
   "pygments_lexer": "ipython3",
   "version": "3.9.7"
  }
 },
 "nbformat": 4,
 "nbformat_minor": 5
}
